{
 "cells": [
  {
   "cell_type": "code",
   "execution_count": 6,
   "id": "d97c63a2-719f-40a2-baa6-f5f6a2ebfa90",
   "metadata": {},
   "outputs": [],
   "source": [
    "import cv2\n",
    "import os\n",
    "\n",
    "video_path = 'temp/demo.mp4'\n",
    "output_dir = 'video_frames'\n",
    "os.makedirs(output_dir, exist_ok=True)\n",
    "\n",
    "cap = cv2.VideoCapture(video_path)\n",
    "i = 0\n",
    "while cap.isOpened():\n",
    "    ret, frame = cap.read()\n",
    "    if not ret:\n",
    "        break\n",
    "    cv2.imwrite(f\"{output_dir}/frame_{i:03d}.jpg\", frame)\n",
    "    i += 1\n",
    "cap.release()\n"
   ]
  },
  {
   "cell_type": "code",
   "execution_count": 4,
   "id": "56803b25-3b4c-408b-82f5-75aa4cc72c6d",
   "metadata": {},
   "outputs": [
    {
     "name": "stdout",
     "output_type": "stream",
     "text": [
      "--2025-06-28 12:52:25--  https://github.com/open-mmlab/mmdetection/blob/main/demo/demo.mp4?raw=true\n",
      "Resolving github.com (github.com)... 140.82.112.4\n",
      "Connecting to github.com (github.com)|140.82.112.4|:443... connected.\n",
      "HTTP request sent, awaiting response... 302 Found\n",
      "Location: https://github.com/open-mmlab/mmdetection/raw/refs/heads/main/demo/demo.mp4 [following]\n",
      "--2025-06-28 12:52:25--  https://github.com/open-mmlab/mmdetection/raw/refs/heads/main/demo/demo.mp4\n",
      "Reusing existing connection to github.com:443.\n",
      "HTTP request sent, awaiting response... 302 Found\n",
      "Location: https://raw.githubusercontent.com/open-mmlab/mmdetection/refs/heads/main/demo/demo.mp4 [following]\n",
      "--2025-06-28 12:52:25--  https://raw.githubusercontent.com/open-mmlab/mmdetection/refs/heads/main/demo/demo.mp4\n",
      "Resolving raw.githubusercontent.com (raw.githubusercontent.com)... 185.199.110.133, 185.199.108.133, 185.199.109.133, ...\n",
      "Connecting to raw.githubusercontent.com (raw.githubusercontent.com)|185.199.110.133|:443... connected.\n",
      "HTTP request sent, awaiting response... 200 OK\n",
      "Length: 297688 (291K) [application/octet-stream]\n",
      "Saving to: ‘demo.mp4’\n",
      "\n",
      "demo.mp4            100%[===================>] 290.71K  --.-KB/s    in 0.06s   \n",
      "\n",
      "2025-06-28 12:52:25 (4.47 MB/s) - ‘demo.mp4’ saved [297688/297688]\n",
      "\n"
     ]
    }
   ],
   "source": [
    "!wget https://github.com/open-mmlab/mmdetection/blob/main/demo/demo.mp4?raw=true -O demo.mp4"
   ]
  },
  {
   "cell_type": "code",
   "execution_count": 5,
   "id": "a58cc7ea-24a6-4749-a2ab-bd97e5f0ad54",
   "metadata": {},
   "outputs": [
    {
     "name": "stdout",
     "output_type": "stream",
     "text": [
      "mkdir: cannot create directory ‘temp’: File exists\n"
     ]
    }
   ],
   "source": [
    "!mkdir temp\n",
    "!mv demo.mp4 temp/"
   ]
  },
  {
   "cell_type": "code",
   "execution_count": 7,
   "id": "5c4f37f3-710a-4f38-b529-07a77e270468",
   "metadata": {},
   "outputs": [
    {
     "name": "stdout",
     "output_type": "stream",
     "text": [
      "frame_000.jpg  frame_014.jpg  frame_028.jpg  frame_042.jpg  frame_056.jpg\n",
      "frame_001.jpg  frame_015.jpg  frame_029.jpg  frame_043.jpg  frame_057.jpg\n",
      "frame_002.jpg  frame_016.jpg  frame_030.jpg  frame_044.jpg  frame_058.jpg\n",
      "frame_003.jpg  frame_017.jpg  frame_031.jpg  frame_045.jpg  frame_059.jpg\n",
      "frame_004.jpg  frame_018.jpg  frame_032.jpg  frame_046.jpg  frame_060.jpg\n",
      "frame_005.jpg  frame_019.jpg  frame_033.jpg  frame_047.jpg  frame_061.jpg\n",
      "frame_006.jpg  frame_020.jpg  frame_034.jpg  frame_048.jpg  frame_062.jpg\n",
      "frame_007.jpg  frame_021.jpg  frame_035.jpg  frame_049.jpg  frame_063.jpg\n",
      "frame_008.jpg  frame_022.jpg  frame_036.jpg  frame_050.jpg  frame_064.jpg\n",
      "frame_009.jpg  frame_023.jpg  frame_037.jpg  frame_051.jpg  frame_065.jpg\n",
      "frame_010.jpg  frame_024.jpg  frame_038.jpg  frame_052.jpg  frame_066.jpg\n",
      "frame_011.jpg  frame_025.jpg  frame_039.jpg  frame_053.jpg\n",
      "frame_012.jpg  frame_026.jpg  frame_040.jpg  frame_054.jpg\n",
      "frame_013.jpg  frame_027.jpg  frame_041.jpg  frame_055.jpg\n"
     ]
    }
   ],
   "source": [
    "!ls video_frames"
   ]
  },
  {
   "cell_type": "markdown",
   "id": "cdc82fcf-2d42-46ae-8c76-1680daee0f39",
   "metadata": {},
   "source": [
    "![f1](./video_frames/frame_000.jpg)"
   ]
  },
  {
   "cell_type": "code",
   "execution_count": 8,
   "id": "ddaaf00f-b6d0-48e7-8cc1-4780a063371d",
   "metadata": {},
   "outputs": [
    {
     "name": "stdout",
     "output_type": "stream",
     "text": [
      "--2025-06-28 12:52:59--  https://raw.githubusercontent.com/open-mmlab/mmdetection/main/configs/fast_rcnn/fast-rcnn_r50_fpn_1x_coco.py\n",
      "Resolving raw.githubusercontent.com (raw.githubusercontent.com)... 185.199.110.133, 185.199.108.133, 185.199.109.133, ...\n",
      "Connecting to raw.githubusercontent.com (raw.githubusercontent.com)|185.199.110.133|:443... connected.\n",
      "HTTP request sent, awaiting response... 200 OK\n",
      "Length: 1353 (1.3K) [text/plain]\n",
      "Saving to: ‘fast-rcnn_r50_fpn_1x_coco.py.1’\n",
      "\n",
      "fast-rcnn_r50_fpn_1 100%[===================>]   1.32K  --.-KB/s    in 0s      \n",
      "\n",
      "2025-06-28 12:52:59 (123 MB/s) - ‘fast-rcnn_r50_fpn_1x_coco.py.1’ saved [1353/1353]\n",
      "\n"
     ]
    }
   ],
   "source": [
    "!wget https://raw.githubusercontent.com/open-mmlab/mmdetection/main/configs/fast_rcnn/fast-rcnn_r50_fpn_1x_coco.py"
   ]
  },
  {
   "cell_type": "code",
   "execution_count": 9,
   "id": "bb046b79-6f46-435c-b6bc-6c5e5539691a",
   "metadata": {},
   "outputs": [
    {
     "name": "stdout",
     "output_type": "stream",
     "text": [
      "--2025-06-28 12:53:03--  https://raw.githubusercontent.com/open-mmlab/mmdetection/main/configs/_base_/models/fast-rcnn_r50_fpn.py\n",
      "Resolving raw.githubusercontent.com (raw.githubusercontent.com)... 185.199.110.133, 185.199.108.133, 185.199.109.133, ...\n",
      "Connecting to raw.githubusercontent.com (raw.githubusercontent.com)|185.199.110.133|:443... connected.\n",
      "HTTP request sent, awaiting response... 200 OK\n",
      "Length: 2256 (2.2K) [text/plain]\n",
      "Saving to: ‘configs/_base_/models/fast-rcnn_r50_fpn.py.1’\n",
      "\n",
      "fast-rcnn_r50_fpn.p 100%[===================>]   2.20K  --.-KB/s    in 0s      \n",
      "\n",
      "2025-06-28 12:53:03 (7.70 MB/s) - ‘configs/_base_/models/fast-rcnn_r50_fpn.py.1’ saved [2256/2256]\n",
      "\n",
      "--2025-06-28 12:53:03--  https://raw.githubusercontent.com/open-mmlab/mmdetection/main/configs/_base_/datasets/coco_detection.py\n",
      "Resolving raw.githubusercontent.com (raw.githubusercontent.com)... 185.199.110.133, 185.199.108.133, 185.199.109.133, ...\n",
      "Connecting to raw.githubusercontent.com (raw.githubusercontent.com)|185.199.110.133|:443... connected.\n",
      "HTTP request sent, awaiting response... 200 OK\n",
      "Length: 3187 (3.1K) [text/plain]\n",
      "Saving to: ‘configs/_base_/datasets/coco_detection.py.1’\n",
      "\n",
      "coco_detection.py.1 100%[===================>]   3.11K  --.-KB/s    in 0s      \n",
      "\n",
      "2025-06-28 12:53:03 (33.5 MB/s) - ‘configs/_base_/datasets/coco_detection.py.1’ saved [3187/3187]\n",
      "\n",
      "--2025-06-28 12:53:04--  https://raw.githubusercontent.com/open-mmlab/mmdetection/main/configs/_base_/schedules/schedule_1x.py\n",
      "Resolving raw.githubusercontent.com (raw.githubusercontent.com)... 185.199.110.133, 185.199.108.133, 185.199.109.133, ...\n",
      "Connecting to raw.githubusercontent.com (raw.githubusercontent.com)|185.199.110.133|:443... connected.\n",
      "HTTP request sent, awaiting response... 200 OK\n",
      "Length: 814 [text/plain]\n",
      "Saving to: ‘configs/_base_/schedules/schedule_1x.py.1’\n",
      "\n",
      "schedule_1x.py.1    100%[===================>]     814  --.-KB/s    in 0s      \n",
      "\n",
      "2025-06-28 12:53:04 (72.9 MB/s) - ‘configs/_base_/schedules/schedule_1x.py.1’ saved [814/814]\n",
      "\n",
      "--2025-06-28 12:53:04--  https://raw.githubusercontent.com/open-mmlab/mmdetection/main/configs/_base_/default_runtime.py\n",
      "Resolving raw.githubusercontent.com (raw.githubusercontent.com)... 185.199.110.133, 185.199.108.133, 185.199.109.133, ...\n",
      "Connecting to raw.githubusercontent.com (raw.githubusercontent.com)|185.199.110.133|:443... connected.\n",
      "HTTP request sent, awaiting response... 200 OK\n",
      "Length: 759 [text/plain]\n",
      "Saving to: ‘configs/_base_/default_runtime.py.1’\n",
      "\n",
      "default_runtime.py. 100%[===================>]     759  --.-KB/s    in 0s      \n",
      "\n",
      "2025-06-28 12:53:04 (21.9 MB/s) - ‘configs/_base_/default_runtime.py.1’ saved [759/759]\n",
      "\n"
     ]
    }
   ],
   "source": [
    "# Create folders\n",
    "!mkdir -p configs/_base_/models\n",
    "!mkdir -p configs/_base_/datasets\n",
    "!mkdir -p configs/_base_/schedules\n",
    "\n",
    "# Download the required base files\n",
    "!wget https://raw.githubusercontent.com/open-mmlab/mmdetection/main/configs/_base_/models/fast-rcnn_r50_fpn.py -P configs/_base_/models/\n",
    "!wget https://raw.githubusercontent.com/open-mmlab/mmdetection/main/configs/_base_/datasets/coco_detection.py -P configs/_base_/datasets/\n",
    "!wget https://raw.githubusercontent.com/open-mmlab/mmdetection/main/configs/_base_/schedules/schedule_1x.py -P configs/_base_/schedules/\n",
    "!wget https://raw.githubusercontent.com/open-mmlab/mmdetection/main/configs/_base_/default_runtime.py -P configs/_base_/\n"
   ]
  },
  {
   "cell_type": "code",
   "execution_count": 10,
   "id": "cda93c65-3375-4b3e-99d8-1b6afbe63281",
   "metadata": {
    "scrolled": true
   },
   "outputs": [
    {
     "name": "stdout",
     "output_type": "stream",
     "text": [
      "--2025-06-28 12:53:10--  https://raw.githubusercontent.com/open-mmlab/mmdetection/main/configs/_base_/models/faster-rcnn_r50_fpn.py\n",
      "Resolving raw.githubusercontent.com (raw.githubusercontent.com)... 185.199.110.133, 185.199.108.133, 185.199.109.133, ...\n",
      "Connecting to raw.githubusercontent.com (raw.githubusercontent.com)|185.199.110.133|:443... connected.\n",
      "HTTP request sent, awaiting response... 200 OK\n",
      "Length: 3828 (3.7K) [text/plain]\n",
      "Saving to: ‘configs/_base_/models/faster-rcnn_r50_fpn.py.1’\n",
      "\n",
      "faster-rcnn_r50_fpn 100%[===================>]   3.74K  --.-KB/s    in 0s      \n",
      "\n",
      "2025-06-28 12:53:10 (29.0 MB/s) - ‘configs/_base_/models/faster-rcnn_r50_fpn.py.1’ saved [3828/3828]\n",
      "\n",
      "--2025-06-28 12:53:11--  https://raw.githubusercontent.com/open-mmlab/mmdetection/main/configs/faster_rcnn/faster-rcnn_r50_fpn_1x_coco.py\n",
      "Resolving raw.githubusercontent.com (raw.githubusercontent.com)... 185.199.110.133, 185.199.108.133, 185.199.109.133, ...\n",
      "Connecting to raw.githubusercontent.com (raw.githubusercontent.com)|185.199.110.133|:443... connected.\n",
      "HTTP request sent, awaiting response... 200 OK\n",
      "Length: 177 [text/plain]\n",
      "Saving to: ‘configs/faster_rcnn/faster-rcnn_r50_fpn_1x_coco.py.1’\n",
      "\n",
      "faster-rcnn_r50_fpn 100%[===================>]     177  --.-KB/s    in 0s      \n",
      "\n",
      "2025-06-28 12:53:11 (13.6 MB/s) - ‘configs/faster_rcnn/faster-rcnn_r50_fpn_1x_coco.py.1’ saved [177/177]\n",
      "\n"
     ]
    }
   ],
   "source": [
    "!wget https://raw.githubusercontent.com/open-mmlab/mmdetection/main/configs/_base_/models/faster-rcnn_r50_fpn.py -P configs/_base_/models/\n",
    "!wget https://raw.githubusercontent.com/open-mmlab/mmdetection/main/configs/faster_rcnn/faster-rcnn_r50_fpn_1x_coco.py -P configs/faster_rcnn/\n"
   ]
  },
  {
   "cell_type": "code",
   "execution_count": 11,
   "id": "3788da57-9574-4d87-920e-a0c103b21778",
   "metadata": {},
   "outputs": [
    {
     "name": "stdout",
     "output_type": "stream",
     "text": [
      "faster-rcnn_r50_fpn_1x_coco.py\tfaster-rcnn_r50_fpn_1x_coco.py.1\n"
     ]
    }
   ],
   "source": [
    "#!ls configs/_base_/models\n",
    "!ls configs/faster_rcnn/"
   ]
  },
  {
   "cell_type": "code",
   "execution_count": 12,
   "id": "a11bf2b9-ee11-4853-9552-c177106393cd",
   "metadata": {},
   "outputs": [
    {
     "name": "stdout",
     "output_type": "stream",
     "text": [
      "--2025-06-28 12:53:21--  https://download.openmmlab.com/mmdetection/v2.0/faster_rcnn/faster_rcnn_r50_fpn_1x_coco/faster_rcnn_r50_fpn_1x_coco_20200130-047c8118.pth\n",
      "Resolving download.openmmlab.com (download.openmmlab.com)... 8.25.82.198, 8.25.82.186, 8.25.82.187, ...\n",
      "Connecting to download.openmmlab.com (download.openmmlab.com)|8.25.82.198|:443... connected.\n",
      "HTTP request sent, awaiting response... 200 OK\n",
      "Length: 167287506 (160M) [application/octet-stream]\n",
      "Saving to: ‘checkpoints/faster_rcnn_r50_fpn_1x_coco_20200130-047c8118.pth.1’\n",
      "\n",
      "faster_rcnn_r50_fpn 100%[===================>] 159.54M  10.9MB/s    in 15s     \n",
      "\n",
      "2025-06-28 12:53:37 (10.8 MB/s) - ‘checkpoints/faster_rcnn_r50_fpn_1x_coco_20200130-047c8118.pth.1’ saved [167287506/167287506]\n",
      "\n"
     ]
    }
   ],
   "source": [
    "!wget https://download.openmmlab.com/mmdetection/v2.0/faster_rcnn/faster_rcnn_r50_fpn_1x_coco/faster_rcnn_r50_fpn_1x_coco_20200130-047c8118.pth -P checkpoints/\n"
   ]
  },
  {
   "cell_type": "code",
   "execution_count": 13,
   "id": "66cac8b7-92e9-46dc-99a7-8682603cff4f",
   "metadata": {},
   "outputs": [
    {
     "name": "stdout",
     "output_type": "stream",
     "text": [
      "Loads checkpoint by local backend from path: checkpoints/faster_rcnn_r50_fpn_1x_coco_20200130-047c8118.pth\n",
      "06/28 12:53:51 - mmengine - \u001b[5m\u001b[4m\u001b[33mWARNING\u001b[0m - `Visualizer` backend is not initialized because save_dir is None.\n"
     ]
    },
    {
     "name": "stderr",
     "output_type": "stream",
     "text": [
      "/usr/local/lib/python3.10/dist-packages/mmengine/visualization/visualizer.py:741: UserWarning: Warning: The bbox is out of bounds, the drawn bbox may not be in the image\n",
      "  warnings.warn(\n",
      "/usr/local/lib/python3.10/dist-packages/mmengine/visualization/visualizer.py:812: UserWarning: Warning: The polygon is out of bounds, the drawn polygon may not be in the image\n",
      "  warnings.warn(\n"
     ]
    }
   ],
   "source": [
    "import os\n",
    "import mmcv\n",
    "from mmdet.apis import init_detector, inference_detector\n",
    "from mmdet.visualization import DetLocalVisualizer\n",
    "\n",
    "# Initialize the model\n",
    "config = 'configs/faster_rcnn/faster-rcnn_r50_fpn_1x_coco.py'\n",
    "checkpoint = 'checkpoints/faster_rcnn_r50_fpn_1x_coco_20200130-047c8118.pth'\n",
    "model = init_detector(config, checkpoint, device='cuda:0')\n",
    "\n",
    "# Setup input/output directories\n",
    "input_dir = './video_frames'\n",
    "output_dir = './output_frames'\n",
    "os.makedirs(output_dir, exist_ok=True)\n",
    "\n",
    "# Set up the visualizer\n",
    "visualizer = DetLocalVisualizer(name='my_vis')\n",
    "visualizer.dataset_meta = model.dataset_meta\n",
    "\n",
    "# Process images\n",
    "for img_name in sorted(os.listdir(input_dir)):\n",
    "    if not img_name.lower().endswith('.jpg'):\n",
    "        continue\n",
    "    img_path = os.path.join(input_dir, img_name)\n",
    "    image = mmcv.imread(img_path)  # Read the actual image array\n",
    "    result = inference_detector(model, image)\n",
    "\n",
    "    out_file = os.path.join(output_dir, img_name)\n",
    "    visualizer.add_datasample(\n",
    "        name=img_name,\n",
    "        image=image,\n",
    "        data_sample=result,\n",
    "        draw_gt=False,\n",
    "        draw_pred=True,\n",
    "        show=False,\n",
    "        wait_time=0,\n",
    "        out_file=out_file\n",
    "    )\n"
   ]
  },
  {
   "cell_type": "markdown",
   "id": "de943c1c-b1fe-4572-b464-9528fff83ee1",
   "metadata": {},
   "source": [
    "![f1](./output_frames/frame_000.jpg)"
   ]
  },
  {
   "cell_type": "code",
   "execution_count": 14,
   "id": "212c5867-f712-49c3-80ea-247e32e0ff54",
   "metadata": {},
   "outputs": [
    {
     "name": "stdout",
     "output_type": "stream",
     "text": [
      "total 12588\n",
      "drwxr-xr-x 2 root root   4096 Jun 28 11:45 .\n",
      "drwxr-xr-x 1 root root   4096 Jun 28 12:52 ..\n",
      "-rw-r--r-- 1 root root 206035 Jun 28 12:53 frame_000.jpg\n",
      "-rw-r--r-- 1 root root 214316 Jun 28 12:53 frame_001.jpg\n",
      "-rw-r--r-- 1 root root 202771 Jun 28 12:53 frame_002.jpg\n",
      "-rw-r--r-- 1 root root 207592 Jun 28 12:53 frame_003.jpg\n",
      "-rw-r--r-- 1 root root 205826 Jun 28 12:53 frame_004.jpg\n",
      "-rw-r--r-- 1 root root 212916 Jun 28 12:53 frame_005.jpg\n",
      "-rw-r--r-- 1 root root 206636 Jun 28 12:53 frame_006.jpg\n",
      "-rw-r--r-- 1 root root 206983 Jun 28 12:53 frame_007.jpg\n",
      "-rw-r--r-- 1 root root 209560 Jun 28 12:53 frame_008.jpg\n",
      "-rw-r--r-- 1 root root 189367 Jun 28 12:53 frame_009.jpg\n",
      "-rw-r--r-- 1 root root 195141 Jun 28 12:53 frame_010.jpg\n",
      "-rw-r--r-- 1 root root 194050 Jun 28 12:53 frame_011.jpg\n",
      "-rw-r--r-- 1 root root 189977 Jun 28 12:53 frame_012.jpg\n",
      "-rw-r--r-- 1 root root 186107 Jun 28 12:53 frame_013.jpg\n",
      "-rw-r--r-- 1 root root 174729 Jun 28 12:53 frame_014.jpg\n",
      "-rw-r--r-- 1 root root 183191 Jun 28 12:53 frame_015.jpg\n",
      "-rw-r--r-- 1 root root 196810 Jun 28 12:53 frame_016.jpg\n",
      "-rw-r--r-- 1 root root 175864 Jun 28 12:53 frame_017.jpg\n",
      "-rw-r--r-- 1 root root 189612 Jun 28 12:53 frame_018.jpg\n",
      "-rw-r--r-- 1 root root 172075 Jun 28 12:53 frame_019.jpg\n",
      "-rw-r--r-- 1 root root 189970 Jun 28 12:53 frame_020.jpg\n",
      "-rw-r--r-- 1 root root 184491 Jun 28 12:53 frame_021.jpg\n",
      "-rw-r--r-- 1 root root 193062 Jun 28 12:53 frame_022.jpg\n",
      "-rw-r--r-- 1 root root 192497 Jun 28 12:53 frame_023.jpg\n",
      "-rw-r--r-- 1 root root 187075 Jun 28 12:53 frame_024.jpg\n",
      "-rw-r--r-- 1 root root 182957 Jun 28 12:53 frame_025.jpg\n",
      "-rw-r--r-- 1 root root 181948 Jun 28 12:53 frame_026.jpg\n",
      "-rw-r--r-- 1 root root 176470 Jun 28 12:53 frame_027.jpg\n",
      "-rw-r--r-- 1 root root 178858 Jun 28 12:53 frame_028.jpg\n",
      "-rw-r--r-- 1 root root 175082 Jun 28 12:53 frame_029.jpg\n",
      "-rw-r--r-- 1 root root 169491 Jun 28 12:53 frame_030.jpg\n",
      "-rw-r--r-- 1 root root 169405 Jun 28 12:53 frame_031.jpg\n",
      "-rw-r--r-- 1 root root 163989 Jun 28 12:53 frame_032.jpg\n",
      "-rw-r--r-- 1 root root 172220 Jun 28 12:53 frame_033.jpg\n",
      "-rw-r--r-- 1 root root 174046 Jun 28 12:53 frame_034.jpg\n",
      "-rw-r--r-- 1 root root 177832 Jun 28 12:53 frame_035.jpg\n",
      "-rw-r--r-- 1 root root 180459 Jun 28 12:53 frame_036.jpg\n",
      "-rw-r--r-- 1 root root 174710 Jun 28 12:53 frame_037.jpg\n",
      "-rw-r--r-- 1 root root 177534 Jun 28 12:53 frame_038.jpg\n",
      "-rw-r--r-- 1 root root 183584 Jun 28 12:53 frame_039.jpg\n",
      "-rw-r--r-- 1 root root 187357 Jun 28 12:53 frame_040.jpg\n",
      "-rw-r--r-- 1 root root 184174 Jun 28 12:53 frame_041.jpg\n",
      "-rw-r--r-- 1 root root 184861 Jun 28 12:53 frame_042.jpg\n",
      "-rw-r--r-- 1 root root 183693 Jun 28 12:53 frame_043.jpg\n",
      "-rw-r--r-- 1 root root 178286 Jun 28 12:53 frame_044.jpg\n",
      "-rw-r--r-- 1 root root 191929 Jun 28 12:53 frame_045.jpg\n",
      "-rw-r--r-- 1 root root 181062 Jun 28 12:53 frame_046.jpg\n",
      "-rw-r--r-- 1 root root 185118 Jun 28 12:53 frame_047.jpg\n",
      "-rw-r--r-- 1 root root 189751 Jun 28 12:54 frame_048.jpg\n",
      "-rw-r--r-- 1 root root 186804 Jun 28 12:54 frame_049.jpg\n",
      "-rw-r--r-- 1 root root 180960 Jun 28 12:54 frame_050.jpg\n",
      "-rw-r--r-- 1 root root 200098 Jun 28 12:54 frame_051.jpg\n",
      "-rw-r--r-- 1 root root 178301 Jun 28 12:54 frame_052.jpg\n",
      "-rw-r--r-- 1 root root 186207 Jun 28 12:54 frame_053.jpg\n",
      "-rw-r--r-- 1 root root 194196 Jun 28 12:54 frame_054.jpg\n",
      "-rw-r--r-- 1 root root 192420 Jun 28 12:54 frame_055.jpg\n",
      "-rw-r--r-- 1 root root 185006 Jun 28 12:54 frame_056.jpg\n",
      "-rw-r--r-- 1 root root 191482 Jun 28 12:54 frame_057.jpg\n",
      "-rw-r--r-- 1 root root 183455 Jun 28 12:54 frame_058.jpg\n",
      "-rw-r--r-- 1 root root 191017 Jun 28 12:54 frame_059.jpg\n",
      "-rw-r--r-- 1 root root 187041 Jun 28 12:54 frame_060.jpg\n",
      "-rw-r--r-- 1 root root 191584 Jun 28 12:54 frame_061.jpg\n",
      "-rw-r--r-- 1 root root 205408 Jun 28 12:54 frame_062.jpg\n",
      "-rw-r--r-- 1 root root 192226 Jun 28 12:54 frame_063.jpg\n",
      "-rw-r--r-- 1 root root 239224 Jun 28 12:54 frame_064.jpg\n",
      "-rw-r--r-- 1 root root 237654 Jun 28 12:54 frame_065.jpg\n",
      "-rw-r--r-- 1 root root 244894 Jun 28 12:54 frame_066.jpg\n"
     ]
    }
   ],
   "source": [
    "!ls -al output_frames  "
   ]
  },
  {
   "cell_type": "code",
   "execution_count": 1,
   "id": "28e02924-7842-4e13-9beb-9e0a908674fa",
   "metadata": {},
   "outputs": [
    {
     "name": "stdout",
     "output_type": "stream",
     "text": [
      "faster_rcnn_r50_fpn_1x_coco_20200130-047c8118.pth\n"
     ]
    }
   ],
   "source": [
    "!ls checkpoints"
   ]
  },
  {
   "cell_type": "code",
   "execution_count": 16,
   "id": "c9109763-1892-4e60-ad35-ae5fe92da5bd",
   "metadata": {},
   "outputs": [],
   "source": [
    "!mkdir checkpoints"
   ]
  },
  {
   "cell_type": "code",
   "execution_count": 19,
   "id": "750f97f6-eebb-4ed2-b10f-0087e3e684d2",
   "metadata": {},
   "outputs": [
    {
     "name": "stdout",
     "output_type": "stream",
     "text": [
      "mmdet, mmcv, mmengine 3.0.0 2.0.0 0.7.1\n"
     ]
    }
   ],
   "source": [
    "import mmdet\n",
    "import mmcv\n",
    "import mmengine\n",
    "print('mmdet, mmcv, mmengine', mmdet.__version__, mmcv.__version__, mmengine.__version__)\n"
   ]
  },
  {
   "cell_type": "code",
   "execution_count": 15,
   "id": "3a9f0384-cb31-4a25-ae09-4f521f1fdc35",
   "metadata": {},
   "outputs": [
    {
     "ename": "ImportError",
     "evalue": "cannot import name 'show_result_pyplot' from 'mmdet.apis' (/usr/local/lib/python3.10/dist-packages/mmdet/apis/__init__.py)",
     "output_type": "error",
     "traceback": [
      "\u001b[0;31m---------------------------------------------------------------------------\u001b[0m",
      "\u001b[0;31mImportError\u001b[0m                               Traceback (most recent call last)",
      "Cell \u001b[0;32mIn[15], line 1\u001b[0m\n\u001b[0;32m----> 1\u001b[0m \u001b[38;5;28;01mfrom\u001b[39;00m\u001b[38;5;250m \u001b[39m\u001b[38;5;21;01mmmdet\u001b[39;00m\u001b[38;5;21;01m.\u001b[39;00m\u001b[38;5;21;01mapis\u001b[39;00m\u001b[38;5;250m \u001b[39m\u001b[38;5;28;01mimport\u001b[39;00m init_detector, inference_detector, show_result_pyplot\n",
      "\u001b[0;31mImportError\u001b[0m: cannot import name 'show_result_pyplot' from 'mmdet.apis' (/usr/local/lib/python3.10/dist-packages/mmdet/apis/__init__.py)"
     ]
    }
   ],
   "source": [
    "import cv2\n",
    "import os\n",
    "\n",
    "frame_dir = 'output_frames'\n",
    "output_video = 'output_detected.mp4'\n",
    "\n",
    "images = sorted([img for img in os.listdir(frame_dir) if img.endswith('.jpg')])\n",
    "frame = cv2.imread(os.path.join(frame_dir, images[0]))\n",
    "height, width, _ = frame.shape\n",
    "\n",
    "fourcc = cv2.VideoWriter_fourcc(*'mp4v')\n",
    "out = cv2.VideoWriter(output_video, fourcc, 20.0, (width, height))\n",
    "\n",
    "for img in images:\n",
    "    frame = cv2.imread(os.path.join(frame_dir, img))\n",
    "    out.write(frame)\n",
    "\n",
    "out.release()\n"
   ]
  },
  {
   "cell_type": "code",
   "execution_count": null,
   "id": "5394dd21-644b-4844-998b-c8a57a5f6d0d",
   "metadata": {},
   "outputs": [],
   "source": []
  }
 ],
 "metadata": {
  "kernelspec": {
   "display_name": "Python 3 (ipykernel)",
   "language": "python",
   "name": "python3"
  },
  "language_info": {
   "codemirror_mode": {
    "name": "ipython",
    "version": 3
   },
   "file_extension": ".py",
   "mimetype": "text/x-python",
   "name": "python",
   "nbconvert_exporter": "python",
   "pygments_lexer": "ipython3",
   "version": "3.10.18"
  }
 },
 "nbformat": 4,
 "nbformat_minor": 5
}
